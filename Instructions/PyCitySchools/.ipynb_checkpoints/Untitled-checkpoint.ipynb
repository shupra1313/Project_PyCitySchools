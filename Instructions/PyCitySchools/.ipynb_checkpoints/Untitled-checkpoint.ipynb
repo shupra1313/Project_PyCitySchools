{
 "cells": [
  {
   "cell_type": "code",
   "execution_count": null,
   "metadata": {},
   "outputs": [],
   "source": [
    "import pandas as pd\n",
    "import matplotlib.pyplot as plt\n",
    "days =[0,1,2,3,4,5,6]\n",
    "money_spent = [10,12,12,10,14,22,24]\n",
    "plt.plot(days,money_spent)\n",
    "plt.show()"
   ]
  },
  {
   "cell_type": "code",
   "execution_count": null,
   "metadata": {},
   "outputs": [],
   "source": [
    "x = range(8)\n",
    "y1 = [12,24,36,48,60,72,84,96]\n",
    "y2 = [\"a\",\"b\",\"c\",\"d\",\"e\",\"f\",\"g\",\"h\"]\n",
    "\n",
    "plt.plot(x,y1, color=\"pink\",marker = \"o\")\n",
    "plt.plot(x,y2,color=\"gray\",marker = \"o\")\n",
    "plt.show"
   ]
  },
  {
   "cell_type": "code",
   "execution_count": 9,
   "metadata": {},
   "outputs": [
    {
     "data": {
      "image/png": "[encoded data removed]",
      "text/plain": [
       "<Figure size 432x288 with 1 Axes>"
      ]
     },
     "metadata": {},
     "output_type": "display_data"
    }
   ],
   "source": [
    "days_in_year = [88, 225, 365, 687, 4333, 10756, 30687, 60190, 90553]\n",
    "plt.bar(range(len(days_in_year)),days_in_year)\n",
    "plt.show()"
   ]
  },
  {
   "cell_type": "code",
   "execution_count": 12,
   "metadata": {},
   "outputs": [
    {
     "data": {
      "image/png": "[encoded data removed]",
      "text/plain": [
       "<Figure size 432x288 with 1 Axes>"
      ]
     },
     "metadata": {},
     "output_type": "display_data"
    }
   ],
   "source": [
    "drinks = [\"cappuccino\", \"latte\", \"chai\", \"americano\", \"mocha\", \"espresso\"]\n",
    "sales =  [91, 76, 56, 66, 52, 27]\n",
    "plt.bar(range(len(drinks)),sales)\n",
    "ax = plt.subplot()\n",
    "ax.set_xticks[0,1,2,3,4,5]\n",
    "ax.xlabels[\"cappuccino\", \"latte\", \"chai\", \"americano\", \"mocha\", \"espresso\"]\n",
    "\n",
    "plt.show()"
   ]
  },
  {
   "cell_type": "code",
   "execution_count": null,
   "metadata": {},
   "outputs": [],
   "source": []
  }
 ],
 "metadata": {
  "kernelspec": {
   "display_name": "Python 3",
   "language": "python",
   "name": "python3"
  },
  "language_info": {
   "codemirror_mode": {
    "name": "ipython",
    "version": 3
   },
   "file_extension": ".py",
   "mimetype": "text/x-python",
   "name": "python",
   "nbconvert_exporter": "python",
   "pygments_lexer": "ipython3",
   "version": "3.6.5"
  }
 },
 "nbformat": 4,
 "nbformat_minor": 2
}
